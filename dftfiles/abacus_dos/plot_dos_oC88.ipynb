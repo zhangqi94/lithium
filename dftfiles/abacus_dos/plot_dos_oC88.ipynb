{
 "cells": [
  {
   "cell_type": "code",
   "execution_count": null,
   "metadata": {},
   "outputs": [],
   "source": [
    "\n",
    "import numpy as np\n",
    "import matplotlib.pyplot as plt\n",
    "from plottools import get_colors, load_txt_data, wrap_text\n",
    "from plottools import colors_list\n",
    "\n",
    "# colors = get_colors(20, 'jet')\n",
    "# colors = get_colors(6, 'jet')\n",
    "\n",
    "# colors = colors_list\n",
    "Rydberg_to_eV = 13.6057039763 "
   ]
  },
  {
   "cell_type": "code",
   "execution_count": null,
   "metadata": {},
   "outputs": [],
   "source": [
    "colors = np.array([[0, 191, 255],\n",
    "                   [100, 149, 237],\n",
    "                   [8, 81, 156],\n",
    "                   [255, 99, 71],\n",
    "                   [214, 39, 40],\n",
    "                   [139, 0, 0],\n",
    "                   [50, 205, 50],\n",
    "                   [34, 139, 34],\n",
    "                   [255, 165, 0],\n",
    "                   [255, 127, 80]\n",
    "                   ],\n",
    "                )/255\n",
    "\n",
    "\n",
    "plt.figure(figsize=(6, 3), dpi=300)\n",
    "for i in range(len(colors)):\n",
    "    y = np.arange(0, 1, 0.01)\n",
    "    x = np.ones_like(y) * i\n",
    "    plt.plot(x, y, \n",
    "             \"-\", \n",
    "             linewidth = 10, \n",
    "             color = colors[i], \n",
    "             label = str(i),\n",
    "             )\n",
    "plt.legend()"
   ]
  },
  {
   "cell_type": "code",
   "execution_count": null,
   "metadata": {},
   "outputs": [],
   "source": [
    "\n",
    "# # ## oC40\n",
    "\n",
    "f1 = \"/mnt/ssht02home/MLCodes/lithium_abacus/oC88_pbe_k4_dos/OUT.ABACUS/DOS1_smearing.dat\"\n",
    "fe1 = 6.0225760357\n",
    "f2 = \"/mnt/ssht02home/MLCodes/lithium_abacus/oC88_pbe_k6_dos/OUT.ABACUS/DOS1_smearing.dat\"\n",
    "fe2 = 6.0205488863\n",
    "f3 = \"/mnt/ssht02home/MLCodes/lithium_abacus/oC88_pbe_k8_dos/OUT.ABACUS/DOS1_smearing.dat\"\n",
    "fe3 = 6.0192478864\n",
    "\n",
    "g1 = \"/mnt/ssht02home/MLCodes/lithium_abacus/oC88_hse_k4_dos/OUT.ABACUS/DOS1_smearing.dat\"\n",
    "ge1 = 5.9943801624 \n",
    "g2 = \"/mnt/ssht02home/MLCodes/lithium_abacus/oC88_hse_k6_dos/OUT.ABACUS/DOS1_smearing.dat\"\n",
    "ge2 = 5.9950989382\n",
    "g3 = \"/mnt/ssht02home/MLCodes/lithium_abacus/oC88_hse_k8_dos/OUT.ABACUS/DOS1_smearing.dat\"\n",
    "ge3 = 5.9875965398\n",
    "\n",
    "colors = colors\n",
    "file_paths = [f1, f2, f3, g1, g2, g3]\n",
    "efs = [fe1, fe2, fe3, ge1, ge2, ge3]\n",
    "\n",
    "# colors = colors[:3, :]\n",
    "# file_paths = [f1, f2, f3]\n",
    "# efs = [fe1, fe2, fe3]\n",
    "\n",
    "# colors = colors[3:, :]\n",
    "# file_paths = [g1, g2, g3]\n",
    "# efs = [ge1, ge2, ge3]\n",
    "\n",
    "# colors = colors[[2, 5], :]\n",
    "# file_paths = [f3, g3]\n",
    "# efs = [fe3, ge3]\n",
    "\n",
    "# colors = colors[[0,1, 3,4], :]\n",
    "# file_paths = [f1, f2, g1, g2]\n",
    "# efs = [fe1, fe2, ge1, ge2]\n"
   ]
  },
  {
   "cell_type": "code",
   "execution_count": null,
   "metadata": {},
   "outputs": [],
   "source": [
    "num_files = len(file_paths)\n",
    "datas = []\n",
    "for i in range(len(file_paths)):\n",
    "    datas.append(load_txt_data(file_paths[i]))\n"
   ]
  },
  {
   "cell_type": "code",
   "execution_count": null,
   "metadata": {},
   "outputs": [],
   "source": [
    "\n",
    "\n",
    "plt.figure(figsize=(6, 4), dpi=300)\n",
    "plt.grid(True)\n",
    "\n",
    "for i in range(num_files):\n",
    "    plt.plot(datas[i][:, 0]-efs[i], \n",
    "             datas[i][:, 1],\n",
    "            '-', \n",
    "            linewidth = 1, \n",
    "            markersize = 1, \n",
    "            color = colors[i], \n",
    "            label = wrap_text(file_paths[i], 50),\n",
    "            )\n",
    "\n",
    "plt.xlim([-10, 10])\n",
    "plt.ylim([0, 15])\n",
    "plt.ylim([0, 50])\n",
    "plt.legend(fontsize=6)\n",
    "plt.xlabel('Energy (eV)')\n",
    "plt.ylabel('Density of States (DOS)')\n",
    "plt.show()\n"
   ]
  },
  {
   "cell_type": "code",
   "execution_count": null,
   "metadata": {},
   "outputs": [],
   "source": []
  }
 ],
 "metadata": {
  "kernelspec": {
   "display_name": "jax0435",
   "language": "python",
   "name": "python3"
  },
  "language_info": {
   "codemirror_mode": {
    "name": "ipython",
    "version": 3
   },
   "file_extension": ".py",
   "mimetype": "text/x-python",
   "name": "python",
   "nbconvert_exporter": "python",
   "pygments_lexer": "ipython3",
   "version": "3.13.0"
  }
 },
 "nbformat": 4,
 "nbformat_minor": 2
}
