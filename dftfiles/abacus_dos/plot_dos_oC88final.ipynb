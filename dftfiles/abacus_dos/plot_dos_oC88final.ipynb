{
 "cells": [
  {
   "cell_type": "code",
   "execution_count": null,
   "metadata": {},
   "outputs": [],
   "source": [
    "\n",
    "import numpy as np\n",
    "import matplotlib.pyplot as plt\n",
    "from plottools import get_colors, load_txt_data, wrap_text\n",
    "from plottools import colors_list\n",
    "\n",
    "# colors = get_colors(20, 'jet')\n",
    "# colors = get_colors(6, 'jet')\n",
    "\n",
    "# colors = colors_list\n",
    "Rydberg_to_eV = 13.6057039763 "
   ]
  },
  {
   "cell_type": "code",
   "execution_count": null,
   "metadata": {},
   "outputs": [],
   "source": [
    "colors = np.array([[0, 191, 255],\n",
    "                   [100, 149, 237],\n",
    "                   [8, 81, 156],\n",
    "                   [255, 99, 71],\n",
    "                   [214, 39, 40],\n",
    "                   [139, 0, 0],\n",
    "                   [50, 205, 50],\n",
    "                   [34, 139, 34],\n",
    "                   [255, 165, 0],\n",
    "                   [255, 127, 80]\n",
    "                   ],\n",
    "                )/255\n",
    "\n",
    "# colors = np.array([[214, 39, 40],\n",
    "#                    [139, 0, 0],\n",
    "#                    ],\n",
    "#                 )/255\n",
    "\n",
    "\n",
    "plt.figure(figsize=(6, 3), dpi=300)\n",
    "for i in range(len(colors)):\n",
    "    y = np.arange(0, 1, 0.01)\n",
    "    x = np.ones_like(y) * i\n",
    "    plt.plot(x, y, \n",
    "             \"-\", \n",
    "             linewidth = 10, \n",
    "             color = colors[i], \n",
    "             label = str(i),\n",
    "             )\n",
    "plt.legend()"
   ]
  },
  {
   "cell_type": "code",
   "execution_count": null,
   "metadata": {},
   "outputs": [],
   "source": [
    "\n",
    "# # ## oC88\n",
    "\n",
    "f1 = \"/mnt/ssht02home/MLCodes/lithium_abacus/plot_oC88/DOS_pbe.dat\"\n",
    "fe1 = 6.0225760357\n",
    "\n",
    "\n",
    "g1 = \"/mnt/ssht02home/MLCodes/lithium_abacus/plot_oC88/DOS_hse.dat\"\n",
    "ge1 = 5.9943801624 \n",
    "\n",
    "\n",
    "file_paths = [f1, g1]\n",
    "efs = [fe1, ge1]"
   ]
  },
  {
   "cell_type": "code",
   "execution_count": null,
   "metadata": {},
   "outputs": [],
   "source": [
    "num_files = len(file_paths)\n",
    "datas = []\n",
    "for i in range(len(file_paths)):\n",
    "    datas.append(load_txt_data(file_paths[i]))\n"
   ]
  },
  {
   "cell_type": "code",
   "execution_count": null,
   "metadata": {},
   "outputs": [],
   "source": [
    "\n",
    "\n",
    "plt.figure(figsize=(6, 4), dpi=300)\n",
    "plt.grid(True)\n",
    "\n",
    "for i in range(num_files):\n",
    "    plt.plot(datas[i][:, 0]-efs[i], \n",
    "             datas[i][:, 1]/(np.sum(datas[i][:, 1]*0.01)),\n",
    "            '-', \n",
    "            linewidth = 1, \n",
    "            markersize = 1, \n",
    "            color = colors[i], \n",
    "            label = wrap_text(file_paths[i], 50),\n",
    "            )\n",
    "\n",
    "plt.xlim([-7.5, 7.5])\n",
    "# plt.ylim([0, 15])\n",
    "# plt.ylim([0, 60])\n",
    "plt.legend(fontsize=6)\n",
    "plt.xlabel('Energy (eV)')\n",
    "plt.ylabel('Density of States (DOS)')\n",
    "plt.show()\n"
   ]
  },
  {
   "cell_type": "code",
   "execution_count": null,
   "metadata": {},
   "outputs": [],
   "source": []
  }
 ],
 "metadata": {
  "kernelspec": {
   "display_name": "jax0435",
   "language": "python",
   "name": "python3"
  },
  "language_info": {
   "codemirror_mode": {
    "name": "ipython",
    "version": 3
   },
   "file_extension": ".py",
   "mimetype": "text/x-python",
   "name": "python",
   "nbconvert_exporter": "python",
   "pygments_lexer": "ipython3",
   "version": "3.13.0"
  }
 },
 "nbformat": 4,
 "nbformat_minor": 2
}
