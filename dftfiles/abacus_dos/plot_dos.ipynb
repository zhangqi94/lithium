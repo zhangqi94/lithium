{
 "cells": [
  {
   "cell_type": "code",
   "execution_count": null,
   "metadata": {},
   "outputs": [],
   "source": [
    "\n",
    "import numpy as np\n",
    "import matplotlib.pyplot as plt\n",
    "\n",
    "Rydberg_to_eV = 13.6057039763 "
   ]
  },
  {
   "cell_type": "code",
   "execution_count": null,
   "metadata": {},
   "outputs": [],
   "source": [
    "\n",
    "colors = np.array([[100, 149, 237],\n",
    "                   [8, 81, 156],\n",
    "                   [214, 39, 40],\n",
    "                   [139, 0, 0],\n",
    "                   [50, 205, 50],\n",
    "                   [34, 139, 34],\n",
    "                   [255, 165, 0],\n",
    "                   [255, 127, 80]\n",
    "                   ],\n",
    "                )/255\n",
    "\n",
    "plt.figure(figsize=(6, 3), dpi=300)\n",
    "for i in range(len(colors)):\n",
    "    y = np.arange(0, 1, 0.01)\n",
    "    x = np.ones_like(y) * i\n",
    "    plt.plot(x, y, \n",
    "             \"-\", \n",
    "             linewidth = 10, \n",
    "             color = colors[i], \n",
    "             label = str(i),\n",
    "             )\n",
    "plt.legend()\n",
    "\n"
   ]
  },
  {
   "cell_type": "code",
   "execution_count": null,
   "metadata": {},
   "outputs": [],
   "source": [
    "def load_txt_data(file_path, print_type = 1):\n",
    "    with open(file_path, 'r') as file:\n",
    "        lines = file.readlines()\n",
    "    data = [line.strip().split() for line in lines]\n",
    "    data = np.array(data, dtype=np.float64)\n",
    "    if print_type == 1:\n",
    "        print(data.shape)\n",
    "    return data\n",
    "\n",
    "def wrap_text(text, width):\n",
    "    return '\\n'.join([text[i:i+width] for i in range(0, len(text), width)])\n"
   ]
  },
  {
   "cell_type": "code",
   "execution_count": null,
   "metadata": {},
   "outputs": [],
   "source": [
    "\n",
    "## cI16\n",
    "f1 = \"/mnt/ssht02home/MLCodes/lithium_abacus/cI16_pbe_k8_dos/OUT.ABACUS/DOS1_smearing.dat\"\n",
    "ef1 = 5.8666967475\n",
    "f2 = \"/mnt/ssht02home/MLCodes/lithium_abacus/cI16_hse_k8_dos/OUT.ABACUS/DOS1_smearing.dat\"\n",
    "ef2 = 5.8312799972\n",
    "data1 = load_txt_data(f1)\n",
    "data2 = load_txt_data(f2)\n",
    "\n",
    "### oC88\n",
    "f1 = \"/mnt/ssht02home/MLCodes/lithium_abacus/oC40_pbe_k4_dos/OUT.ABACUS/DOS1_smearing.dat\"\n",
    "ef1 = 6.4668744680\n",
    "f2 = \"/mnt/ssht02home/MLCodes/lithium_abacus/oC40_hse_k4_dos/OUT.ABACUS/DOS1_smearing.dat\"\n",
    "ef2 = 6.5826361162\n",
    "data1 = load_txt_data(f1)\n",
    "data2 = load_txt_data(f2)\n",
    "\n",
    "### oC40\n",
    "f1 = \"/mnt/ssht02home/MLCodes/lithium_abacus/oC40_pbe_k4_dos/OUT.ABACUS/DOS1_smearing.dat\"\n",
    "ef1 = 6.4668744680\n",
    "f2 = \"/mnt/ssht02home/MLCodes/lithium_abacus/oC40_hse_k4_dos/OUT.ABACUS/DOS1_smearing.dat\"\n",
    "ef2 = 6.5826361162\n",
    "data1 = load_txt_data(f1)\n",
    "data2 = load_txt_data(f2)\n",
    "\n"
   ]
  },
  {
   "cell_type": "code",
   "execution_count": null,
   "metadata": {},
   "outputs": [],
   "source": [
    "\n",
    "\n",
    "plt.figure(figsize=(6, 4), dpi=300)\n",
    "plt.grid(True)\n",
    "\n",
    "plt.plot(data1[:, 0]-ef1, \n",
    "         data1[:, 1],\n",
    "         '-', \n",
    "         linewidth = 1, \n",
    "         markersize = 1, \n",
    "         color = colors[0], \n",
    "         label = wrap_text(f1, 50),\n",
    "         )\n",
    "\n",
    "plt.plot(data2[:, 0]-ef2, \n",
    "         data2[:, 1],\n",
    "         '-', \n",
    "         linewidth = 1, \n",
    "         markersize = 1, \n",
    "         color = colors[1], \n",
    "         label = wrap_text(f2, 50),\n",
    "         )\n",
    "\n",
    "plt.xlim([-10, 15])\n",
    "plt.ylim([0, 15])\n",
    "plt.ylim([0, 20])\n",
    "plt.legend(fontsize=6)\n",
    "plt.xlabel('Energy (eV)')\n",
    "plt.ylabel('Density of States (DOS)')\n",
    "plt.show()\n"
   ]
  },
  {
   "cell_type": "code",
   "execution_count": null,
   "metadata": {},
   "outputs": [],
   "source": []
  }
 ],
 "metadata": {
  "kernelspec": {
   "display_name": "jax0435",
   "language": "python",
   "name": "python3"
  },
  "language_info": {
   "codemirror_mode": {
    "name": "ipython",
    "version": 3
   },
   "file_extension": ".py",
   "mimetype": "text/x-python",
   "name": "python",
   "nbconvert_exporter": "python",
   "pygments_lexer": "ipython3",
   "version": "3.13.0"
  }
 },
 "nbformat": 4,
 "nbformat_minor": 2
}
