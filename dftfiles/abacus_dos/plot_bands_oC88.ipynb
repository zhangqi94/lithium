{
 "cells": [
  {
   "cell_type": "code",
   "execution_count": null,
   "metadata": {},
   "outputs": [],
   "source": [
    "\n",
    "import numpy as np\n",
    "import matplotlib.pyplot as plt\n",
    "from plottools import get_colors, load_txt_data, wrap_text\n",
    "from plottools import colors_list\n",
    "\n",
    "# colors = get_colors(20, 'jet')\n",
    "# colors = get_colors(6, 'jet')\n",
    "\n",
    "# colors = colors_list\n",
    "Rydberg_to_eV = 13.6057039763 "
   ]
  },
  {
   "cell_type": "code",
   "execution_count": null,
   "metadata": {},
   "outputs": [],
   "source": [
    "colors = np.array([[0, 191, 255],\n",
    "                   [100, 149, 237],\n",
    "                   [8, 81, 156],\n",
    "                   [255, 99, 71],\n",
    "                   [214, 39, 40],\n",
    "                   [139, 0, 0],\n",
    "                   [50, 205, 50],\n",
    "                   [34, 139, 34],\n",
    "                   [255, 165, 0],\n",
    "                   [255, 127, 80]\n",
    "                   ],\n",
    "                )/255\n",
    "\n",
    "\n",
    "plt.figure(figsize=(6, 3), dpi=300)\n",
    "for i in range(len(colors)):\n",
    "    y = np.arange(0, 1, 0.01)\n",
    "    x = np.ones_like(y) * i\n",
    "    plt.plot(x, y, \n",
    "             \"-\", \n",
    "             linewidth = 10, \n",
    "             color = colors[i], \n",
    "             label = str(i),\n",
    "             )\n",
    "plt.legend()"
   ]
  },
  {
   "cell_type": "code",
   "execution_count": null,
   "metadata": {},
   "outputs": [],
   "source": [
    "# K_POINTS\n",
    "# 7\n",
    "# Line\n",
    "# 0.0000000000\t0.0000000000\t0.0000000000\t20 # G\n",
    "# 0.0000000000\t0.0000000000\t0.5000000000\t20 # Z\n",
    "# 0.5000000000\t0.5000000000\t0.5000000000\t20 # T\n",
    "# 0.5000000000\t0.5000000000\t0.0000000000\t20 # Y\n",
    "# 0.0000000000\t0.0000000000\t0.0000000000\t20 # G\n",
    "# 0.0000000000\t0.5000000000\t0.0000000000\t20 # S\n",
    "# 0.0000000000\t0.5000000000\t0.5000000000\t20 # R\n",
    "\n",
    "\n",
    "f1 = \"/mnt/ssht02home/MLCodes/lithium_abacus/oC88_pbe_bands/OUT.ABACUS/BANDS_1.dat\"\n",
    "fe1 = 6.0192478864\n",
    "\n",
    "f2 = \"/mnt/ssht02home/MLCodes/lithium_abacus/oC88_hse_bands/OUT.ABACUS/BANDS_1.dat\"\n",
    "fe2 = 6.1054134192\n"
   ]
  },
  {
   "cell_type": "code",
   "execution_count": null,
   "metadata": {},
   "outputs": [],
   "source": [
    "\n",
    "dataf1 = load_txt_data(f1)\n",
    "dataf2 = load_txt_data(f2)\n"
   ]
  },
  {
   "cell_type": "code",
   "execution_count": null,
   "metadata": {},
   "outputs": [],
   "source": [
    "dataf1[:, 0]"
   ]
  },
  {
   "cell_type": "code",
   "execution_count": null,
   "metadata": {},
   "outputs": [],
   "source": [
    "\n",
    "\n",
    "plt.figure(figsize=(6, 4), dpi=300)\n",
    "plt.grid(True)\n",
    "\n",
    "for i in range(1, 160):\n",
    "    plt.plot(dataf1[:, 0], dataf1[:, i]-fe1, \n",
    "             '-', linewidth=1, markersize=1, color=colors[0])\n",
    "\n",
    "for i in range(1, 160):\n",
    "    plt.plot(dataf2[:, 0], dataf2[:, i]-fe2, \n",
    "             '-', linewidth=1, markersize=1, color=colors[3])\n",
    "\n",
    "plt.xlim([0, 120])\n",
    "plt.ylim([-3, 3])\n",
    "# plt.legend(fontsize=6)\n",
    "# plt.xlabel('')\n",
    "labelsx = [0, 20, 40, 60, 80, 100, 120]\n",
    "labels = ['$\\Gamma$', 'Z', 'T', 'Y', '$\\Gamma$', 'S', 'R'] \n",
    "plt.xticks(labelsx, labels, fontsize=12)\n",
    "plt.ylabel('Energy band (eV)', fontsize=12)\n",
    "plt.show()\n"
   ]
  },
  {
   "cell_type": "code",
   "execution_count": null,
   "metadata": {},
   "outputs": [],
   "source": [
    "plt.figure(figsize=(6, 4), dpi=300)\n",
    "plt.grid(True)\n",
    "\n",
    "for i in range(1, 160):\n",
    "    plt.plot(dataf1[:, 0], dataf1[:, i]-fe1, \n",
    "             '-', linewidth=1, markersize=1, color=colors[0])\n",
    "\n",
    "plt.xlim([0, 120])\n",
    "plt.ylim([-3, 3])\n",
    "plt.legend(fontsize=6)\n",
    "# plt.xlabel('')\n",
    "labelsx = [0, 20, 40, 60, 80, 100, 120]\n",
    "labels = ['$\\Gamma$', '$Z$', '$T$', '$Y$', '$\\Gamma$', '$S$', '$R$'] \n",
    "plt.xticks(labelsx, labels, fontsize=12)\n",
    "plt.ylabel('Energy band (eV)', fontsize=12)\n",
    "plt.show()"
   ]
  },
  {
   "cell_type": "code",
   "execution_count": null,
   "metadata": {},
   "outputs": [],
   "source": [
    "plt.figure(figsize=(6, 4), dpi=300)\n",
    "plt.grid(True)\n",
    "\n",
    "for i in range(1, 160):\n",
    "    plt.plot(dataf2[:, 0], dataf2[:, i]-fe2, \n",
    "             '-', linewidth=1, markersize=1, color=colors[3])\n",
    "\n",
    "plt.xlim([0, 120])\n",
    "plt.ylim([-3, 3])\n",
    "plt.legend(fontsize=6)\n",
    "# plt.xlabel('')\n",
    "labelsx = [0, 20, 40, 60, 80, 100, 120]\n",
    "labels = ['$\\Gamma$', '$Z$', '$T$', '$Y$', '$\\Gamma$', '$S$', '$R$'] \n",
    "plt.xticks(labelsx, labels, fontsize=12)\n",
    "plt.ylabel('Energy band (eV)', fontsize=12)\n",
    "plt.show()"
   ]
  }
 ],
 "metadata": {
  "kernelspec": {
   "display_name": "jax0435",
   "language": "python",
   "name": "python3"
  },
  "language_info": {
   "codemirror_mode": {
    "name": "ipython",
    "version": 3
   },
   "file_extension": ".py",
   "mimetype": "text/x-python",
   "name": "python",
   "nbconvert_exporter": "python",
   "pygments_lexer": "ipython3",
   "version": "3.13.0"
  }
 },
 "nbformat": 4,
 "nbformat_minor": 2
}
