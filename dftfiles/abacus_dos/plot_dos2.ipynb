{
 "cells": [
  {
   "cell_type": "code",
   "execution_count": null,
   "metadata": {},
   "outputs": [],
   "source": [
    "\n",
    "import numpy as np\n",
    "import matplotlib.pyplot as plt\n",
    "from plottools import get_colors, load_txt_data, wrap_text\n",
    "\n",
    "\n",
    "\n",
    "# colors = get_colors(20, 'jet')\n",
    "colors = get_colors(6, 'jet')\n",
    "Rydberg_to_eV = 13.6057039763 \n"
   ]
  },
  {
   "cell_type": "code",
   "execution_count": null,
   "metadata": {},
   "outputs": [],
   "source": [
    "\n",
    "# ## cI16\n",
    "# f1 = \"/mnt/ssht02home/MLCodes/lithium_abacus/cI16_pbe_k8_dos/OUT.ABACUS/DOS1_smearing.dat\"\n",
    "# ef1 = 5.8666967475\n",
    "# f2 = \"/mnt/ssht02home/MLCodes/lithium_abacus/cI16_hse_k8_dos/OUT.ABACUS/DOS1_smearing.dat\"\n",
    "# ef2 = 5.8312799972\n",
    "# file_paths = [f1, f2]\n",
    "# efs = [ef1, ef2]\n",
    "\n"
   ]
  },
  {
   "cell_type": "code",
   "execution_count": null,
   "metadata": {},
   "outputs": [],
   "source": [
    "\n",
    "# ### oC88\n",
    "# f1 = \"/mnt/ssht02home/MLCodes/lithium_abacus/oC88_pbe_k4_dos/OUT.ABACUS/DOS1_smearing.dat\"\n",
    "# ef1 = 6.0225760357\n",
    "# f2 = \"/mnt/ssht02home/MLCodes/lithium_abacus/oC88_hse_k4_dos/OUT.ABACUS/DOS1_smearing.dat\"\n",
    "# ef2 = 5.9943431684\n",
    "# file_paths = [f1, f2]\n",
    "# efs = [ef1, ef2]\n",
    "\n"
   ]
  },
  {
   "cell_type": "code",
   "execution_count": null,
   "metadata": {},
   "outputs": [],
   "source": [
    "# ### oC40\n",
    "# f1 = \"/mnt/ssht02home/MLCodes/lithium_abacus/oC40_pbe_k4_dos/OUT.ABACUS/DOS1_smearing.dat\"\n",
    "# ef1 = 6.4668744680\n",
    "# f2 = \"/mnt/ssht02home/MLCodes/lithium_abacus/oC40_hse_k4_dos/OUT.ABACUS/DOS1_smearing.dat\"\n",
    "# ef2 = 6.5826361162\n",
    "# file_paths = [f1, f2]\n",
    "# efs = [ef1, ef2]\n",
    "\n",
    "\n",
    "# f1 = \"/mnt/ssht02home/MLCodes/lithium_abacus/oC40_pbe_k4_dos/OUT.ABACUS/DOS1_smearing.dat\"\n",
    "# fef1 = 6.4668744680\n",
    "# f2 = \"/mnt/ssht02home/MLCodes/lithium_abacus/oC40_pbe_k6_dos/OUT.ABACUS/DOS1_smearing.dat\"\n",
    "# fef2 = 6.4624241628\n",
    "# g1 = \"/mnt/ssht02home/MLCodes/lithium_abacus/oC40_hse_k4_dos/OUT.ABACUS/DOS1_smearing.dat\"\n",
    "# gef1 = 6.5826361162\n",
    "# g2 = \"/mnt/ssht02home/MLCodes/lithium_abacus/oC40_hse_k6_dos/OUT.ABACUS/DOS1_smearing.dat\"\n",
    "# gef2 = 6.5279857917\n",
    "# file_paths = [f1, f2, g1, g2]\n",
    "# efs = [fef1, fef2, gef1, gef2]\n"
   ]
  },
  {
   "cell_type": "code",
   "execution_count": null,
   "metadata": {},
   "outputs": [],
   "source": [
    "num_files = len(file_paths)\n",
    "datas = []\n",
    "for i in range(len(file_paths)):\n",
    "    datas.append(load_txt_data(file_paths[i]))\n"
   ]
  },
  {
   "cell_type": "code",
   "execution_count": null,
   "metadata": {},
   "outputs": [],
   "source": [
    "\n",
    "\n",
    "plt.figure(figsize=(6, 4), dpi=300)\n",
    "plt.grid(True)\n",
    "\n",
    "for i in range(num_files):\n",
    "    plt.plot(datas[i][:, 0]-efs[i], \n",
    "             datas[i][:, 1],\n",
    "            '-', \n",
    "            linewidth = 1, \n",
    "            markersize = 1, \n",
    "            color = colors[i], \n",
    "            label = wrap_text(file_paths[i], 50),\n",
    "            )\n",
    "\n",
    "plt.xlim([-10, 15])\n",
    "plt.ylim([0, 15])\n",
    "plt.ylim([0, 50])\n",
    "plt.legend(fontsize=6)\n",
    "plt.xlabel('Energy (eV)')\n",
    "plt.ylabel('Density of States (DOS)')\n",
    "plt.show()\n"
   ]
  },
  {
   "cell_type": "code",
   "execution_count": null,
   "metadata": {},
   "outputs": [],
   "source": []
  }
 ],
 "metadata": {
  "kernelspec": {
   "display_name": "jax0435",
   "language": "python",
   "name": "python3"
  },
  "language_info": {
   "codemirror_mode": {
    "name": "ipython",
    "version": 3
   },
   "file_extension": ".py",
   "mimetype": "text/x-python",
   "name": "python",
   "nbconvert_exporter": "python",
   "pygments_lexer": "ipython3",
   "version": "3.13.0"
  }
 },
 "nbformat": 4,
 "nbformat_minor": 2
}
